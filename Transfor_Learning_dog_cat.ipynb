{
  "nbformat": 4,
  "nbformat_minor": 0,
  "metadata": {
    "colab": {
      "name": "Transfor Learning_dog_cat.ipynb",
      "provenance": [],
      "authorship_tag": "ABX9TyO5FQabWGavDsEOJsuhNstV",
      "include_colab_link": true
    },
    "kernelspec": {
      "name": "python3",
      "display_name": "Python 3"
    },
    "language_info": {
      "name": "python"
    },
    "accelerator": "GPU"
  },
  "cells": [
    {
      "cell_type": "markdown",
      "metadata": {
        "id": "view-in-github",
        "colab_type": "text"
      },
      "source": [
        "<a href=\"https://colab.research.google.com/github/babymlin/dog_cat_vgg16-98.6/blob/main/Transfor_Learning_dog_cat.ipynb\" target=\"_parent\"><img src=\"https://colab.research.google.com/assets/colab-badge.svg\" alt=\"Open In Colab\"/></a>"
      ]
    },
    {
      "cell_type": "code",
      "metadata": {
        "id": "43SBs-dJ6vCz"
      },
      "source": [
        "import tensorflow as tf\n",
        "import matplotlib.pyplot as plt\n",
        "import numpy as np\n",
        "import pandas as pd\n",
        "from tensorflow.keras.applications.efficientnet import EfficientNetB0, preprocess_input"
      ],
      "execution_count": 1,
      "outputs": []
    },
    {
      "cell_type": "code",
      "metadata": {
        "colab": {
          "base_uri": "https://localhost:8080/"
        },
        "id": "vtqOrJRLAAue",
        "outputId": "d2891a49-50c5-4eac-9817-d19461e76f4a"
      },
      "source": [
        "# data_set_url:\"https://drive.google.com/file/d/1mAY0aJyMvc10jVzWJ9YhjKvETNxlwZ7u/view?usp=sharing\"\n",
        "!gdown --id 1mAY0aJyMvc10jVzWJ9YhjKvETNxlwZ7u --output train.zip"
      ],
      "execution_count": 2,
      "outputs": [
        {
          "output_type": "stream",
          "text": [
            "Downloading...\n",
            "From: https://drive.google.com/uc?id=1mAY0aJyMvc10jVzWJ9YhjKvETNxlwZ7u\n",
            "To: /content/train.zip\n",
            "570MB [00:06, 92.1MB/s]\n"
          ],
          "name": "stdout"
        }
      ]
    },
    {
      "cell_type": "code",
      "metadata": {
        "id": "5T-3feywAhen"
      },
      "source": [
        "!unzip -q train.zip"
      ],
      "execution_count": 3,
      "outputs": []
    },
    {
      "cell_type": "code",
      "metadata": {
        "colab": {
          "base_uri": "https://localhost:8080/",
          "height": 422
        },
        "id": "9F1-ghxm_yw-",
        "outputId": "1c7ec840-b86a-4d0e-e56f-fe5b0849564a"
      },
      "source": [
        "from glob import glob\n",
        "data = glob(\"train/*.*\")\n",
        "#print(data[:10])\n",
        "class_name = {\"cat\":\"1\", \"dog\":\"0\"}\n",
        "data_df = pd.DataFrame(columns=[\"path\", \"label\"])\n",
        "data_df[\"label\"] = pd.Series([single.split(\"/\")[-1].split(\".\")[0] for single in data])\n",
        "data_df[\"path\"] = pd.Series(data)\n",
        "data_df[\"label\"] = data_df[\"label\"].apply(lambda x:class_name[\"cat\"] if x==\"cat\" else class_name[\"dog\"])\n",
        "data_df"
      ],
      "execution_count": 4,
      "outputs": [
        {
          "output_type": "execute_result",
          "data": {
            "text/html": [
              "<div>\n",
              "<style scoped>\n",
              "    .dataframe tbody tr th:only-of-type {\n",
              "        vertical-align: middle;\n",
              "    }\n",
              "\n",
              "    .dataframe tbody tr th {\n",
              "        vertical-align: top;\n",
              "    }\n",
              "\n",
              "    .dataframe thead th {\n",
              "        text-align: right;\n",
              "    }\n",
              "</style>\n",
              "<table border=\"1\" class=\"dataframe\">\n",
              "  <thead>\n",
              "    <tr style=\"text-align: right;\">\n",
              "      <th></th>\n",
              "      <th>path</th>\n",
              "      <th>label</th>\n",
              "    </tr>\n",
              "  </thead>\n",
              "  <tbody>\n",
              "    <tr>\n",
              "      <th>0</th>\n",
              "      <td>train/dog.10694.jpg</td>\n",
              "      <td>0</td>\n",
              "    </tr>\n",
              "    <tr>\n",
              "      <th>1</th>\n",
              "      <td>train/cat.11915.jpg</td>\n",
              "      <td>1</td>\n",
              "    </tr>\n",
              "    <tr>\n",
              "      <th>2</th>\n",
              "      <td>train/dog.4214.jpg</td>\n",
              "      <td>0</td>\n",
              "    </tr>\n",
              "    <tr>\n",
              "      <th>3</th>\n",
              "      <td>train/dog.1140.jpg</td>\n",
              "      <td>0</td>\n",
              "    </tr>\n",
              "    <tr>\n",
              "      <th>4</th>\n",
              "      <td>train/dog.7814.jpg</td>\n",
              "      <td>0</td>\n",
              "    </tr>\n",
              "    <tr>\n",
              "      <th>...</th>\n",
              "      <td>...</td>\n",
              "      <td>...</td>\n",
              "    </tr>\n",
              "    <tr>\n",
              "      <th>24995</th>\n",
              "      <td>train/cat.9132.jpg</td>\n",
              "      <td>1</td>\n",
              "    </tr>\n",
              "    <tr>\n",
              "      <th>24996</th>\n",
              "      <td>train/dog.11184.jpg</td>\n",
              "      <td>0</td>\n",
              "    </tr>\n",
              "    <tr>\n",
              "      <th>24997</th>\n",
              "      <td>train/dog.3508.jpg</td>\n",
              "      <td>0</td>\n",
              "    </tr>\n",
              "    <tr>\n",
              "      <th>24998</th>\n",
              "      <td>train/cat.5773.jpg</td>\n",
              "      <td>1</td>\n",
              "    </tr>\n",
              "    <tr>\n",
              "      <th>24999</th>\n",
              "      <td>train/cat.11598.jpg</td>\n",
              "      <td>1</td>\n",
              "    </tr>\n",
              "  </tbody>\n",
              "</table>\n",
              "<p>25000 rows × 2 columns</p>\n",
              "</div>"
            ],
            "text/plain": [
              "                      path label\n",
              "0      train/dog.10694.jpg     0\n",
              "1      train/cat.11915.jpg     1\n",
              "2       train/dog.4214.jpg     0\n",
              "3       train/dog.1140.jpg     0\n",
              "4       train/dog.7814.jpg     0\n",
              "...                    ...   ...\n",
              "24995   train/cat.9132.jpg     1\n",
              "24996  train/dog.11184.jpg     0\n",
              "24997   train/dog.3508.jpg     0\n",
              "24998   train/cat.5773.jpg     1\n",
              "24999  train/cat.11598.jpg     1\n",
              "\n",
              "[25000 rows x 2 columns]"
            ]
          },
          "metadata": {
            "tags": []
          },
          "execution_count": 4
        }
      ]
    },
    {
      "cell_type": "code",
      "metadata": {
        "colab": {
          "base_uri": "https://localhost:8080/"
        },
        "id": "Fb_ncfH7Wxtd",
        "outputId": "aa4b8e3f-544a-4a37-910c-a93d177a56fd"
      },
      "source": [
        "from sklearn.model_selection import train_test_split\n",
        "x_train, x_test, y_train, y_test = train_test_split(\n",
        "                            data_df[\"path\"],\n",
        "                            data_df[\"label\"],\n",
        "                            test_size=0.1,\n",
        "                            random_state=1031\n",
        "                      )\n",
        "x_train.shape, y_train.shape, x_test.shape, y_test.shape"
      ],
      "execution_count": 5,
      "outputs": [
        {
          "output_type": "execute_result",
          "data": {
            "text/plain": [
              "((22500,), (22500,), (2500,), (2500,))"
            ]
          },
          "metadata": {
            "tags": []
          },
          "execution_count": 5
        }
      ]
    },
    {
      "cell_type": "code",
      "metadata": {
        "colab": {
          "base_uri": "https://localhost:8080/"
        },
        "id": "trWhQjvYY34Z",
        "outputId": "d265971a-c48b-4d88-d2b0-3299f5ced8a7"
      },
      "source": [
        "from sklearn.model_selection import train_test_split\n",
        "x_train, x_valid, y_train, y_valid = train_test_split(\n",
        "                            x_train,\n",
        "                            y_train,\n",
        "                            test_size=0.1,\n",
        "                            random_state=1031\n",
        "                      )\n",
        "x_train.shape, y_train.shape, x_valid.shape, y_valid.shape"
      ],
      "execution_count": 6,
      "outputs": [
        {
          "output_type": "execute_result",
          "data": {
            "text/plain": [
              "((20250,), (20250,), (2250,), (2250,))"
            ]
          },
          "metadata": {
            "tags": []
          },
          "execution_count": 6
        }
      ]
    },
    {
      "cell_type": "code",
      "metadata": {
        "colab": {
          "base_uri": "https://localhost:8080/"
        },
        "id": "iFmD9h9Kbttj",
        "outputId": "43b0578e-4692-4233-fcba-20d1552e6085"
      },
      "source": [
        "x_train_df = pd.concat([x_train, y_train], axis=1)\n",
        "x_test_df = pd.concat([x_test, y_test], axis=1)\n",
        "x_valid_df = pd.concat([x_valid, y_valid], axis=1)\n",
        "x_train_df.shape, x_test_df.shape, x_valid_df.shape"
      ],
      "execution_count": 19,
      "outputs": [
        {
          "output_type": "execute_result",
          "data": {
            "text/plain": [
              "((20250, 2), (2500, 2), (2250, 2))"
            ]
          },
          "metadata": {
            "tags": []
          },
          "execution_count": 19
        }
      ]
    },
    {
      "cell_type": "code",
      "metadata": {
        "id": "ASJF3kNbXUfe"
      },
      "source": [
        "train_gen = tf.keras.preprocessing.image.ImageDataGenerator(\n",
        "           horizontal_flip=True,\n",
        "           rotation_range=90,\n",
        "           zoom_range=[0.2, 0.2],\n",
        "           preprocessing_function=preprocess_input\n",
        "        )\n",
        "test_gen = tf.keras.preprocessing.image.ImageDataGenerator(preprocessing_function=preprocess_input)\n",
        "valid_gen = tf.keras.preprocessing.image.ImageDataGenerator(preprocessing_function=preprocess_input)"
      ],
      "execution_count": 20,
      "outputs": []
    },
    {
      "cell_type": "code",
      "metadata": {
        "colab": {
          "base_uri": "https://localhost:8080/"
        },
        "id": "NBcuwC4JaZre",
        "outputId": "bfcaaddd-fdd5-4c97-b3b1-25ae03751410"
      },
      "source": [
        "img_size=(224, 224)\n",
        "x_train_flow = train_gen.flow_from_dataframe(\n",
        "            x_train_df,\n",
        "            x_col=\"path\",\n",
        "            y_col=\"label\",\n",
        "            target_size=img_size,\n",
        "          )\n",
        "x_test_flow = test_gen.flow_from_dataframe(\n",
        "            x_test_df,\n",
        "            x_col=\"path\",\n",
        "            y_col=\"label\",\n",
        "            target_size=img_size,\n",
        "            shuffle=False\n",
        "          )\n",
        "x_valid_flow = valid_gen.flow_from_dataframe(\n",
        "            x_valid_df,\n",
        "            x_col=\"path\",\n",
        "            y_col=\"label\",\n",
        "            target_size=img_size,\n",
        "            shuffle=False\n",
        "          )"
      ],
      "execution_count": 22,
      "outputs": [
        {
          "output_type": "stream",
          "text": [
            "Found 20250 validated image filenames belonging to 2 classes.\n",
            "Found 2500 validated image filenames belonging to 2 classes.\n",
            "Found 2250 validated image filenames belonging to 2 classes.\n"
          ],
          "name": "stdout"
        }
      ]
    },
    {
      "cell_type": "code",
      "metadata": {
        "colab": {
          "base_uri": "https://localhost:8080/"
        },
        "id": "jFCw8sEedDQg",
        "outputId": "cce64063-35fd-41bd-9ba0-ff8da880b5fd"
      },
      "source": [
        "effb0 = EfficientNetB0(include_top=False, input_shape=(224, 224, 3))\n",
        "effb0.trainable = False\n"
      ],
      "execution_count": 10,
      "outputs": [
        {
          "output_type": "stream",
          "text": [
            "Downloading data from https://storage.googleapis.com/keras-applications/efficientnetb0_notop.h5\n",
            "16711680/16705208 [==============================] - 0s 0us/step\n"
          ],
          "name": "stdout"
        }
      ]
    },
    {
      "cell_type": "code",
      "metadata": {
        "id": "lFUShmAOeI6t"
      },
      "source": [
        "from tensorflow.keras.models import Model\n",
        "from tensorflow.keras.layers import GlobalAveragePooling2D, Dense, Softmax\n",
        "input_layer = effb0.output\n",
        "x = GlobalAveragePooling2D()(input_layer)\n",
        "x = Dense(units=2)(x)\n",
        "output_layer = Softmax()(x)\n",
        "model = Model(inputs=effb0.input, outputs=output_layer)\n",
        "#model.summary()"
      ],
      "execution_count": 11,
      "outputs": []
    },
    {
      "cell_type": "code",
      "metadata": {
        "colab": {
          "base_uri": "https://localhost:8080/"
        },
        "id": "KtrK5LCzgOPe",
        "outputId": "25b481b8-f70c-4c3e-c5f0-31aca8da2270"
      },
      "source": [
        "!pip install tensorflow-addons\n",
        "import tensorflow_addons as tfa\n",
        "Radam = tfa.optimizers.RectifiedAdam(1e-2)\n",
        "Ranger = tfa.optimizers.Lookahead(Radam)\n",
        "model.compile(\n",
        "    optimizer=Ranger,\n",
        "    loss=\"CategoricalCrossentropy\",\n",
        "    metrics=[\"accuracy\"]\n",
        ")"
      ],
      "execution_count": 12,
      "outputs": [
        {
          "output_type": "stream",
          "text": [
            "Collecting tensorflow-addons\n",
            "\u001b[?25l  Downloading https://files.pythonhosted.org/packages/66/4b/e893d194e626c24b3df2253066aa418f46a432fdb68250cde14bf9bb0700/tensorflow_addons-0.13.0-cp37-cp37m-manylinux2010_x86_64.whl (679kB)\n",
            "\r\u001b[K     |▌                               | 10kB 19.0MB/s eta 0:00:01\r\u001b[K     |█                               | 20kB 26.4MB/s eta 0:00:01\r\u001b[K     |█▌                              | 30kB 22.8MB/s eta 0:00:01\r\u001b[K     |██                              | 40kB 17.6MB/s eta 0:00:01\r\u001b[K     |██▍                             | 51kB 8.7MB/s eta 0:00:01\r\u001b[K     |███                             | 61kB 7.9MB/s eta 0:00:01\r\u001b[K     |███▍                            | 71kB 8.9MB/s eta 0:00:01\r\u001b[K     |███▉                            | 81kB 9.9MB/s eta 0:00:01\r\u001b[K     |████▍                           | 92kB 10.2MB/s eta 0:00:01\r\u001b[K     |████▉                           | 102kB 8.4MB/s eta 0:00:01\r\u001b[K     |█████▎                          | 112kB 8.4MB/s eta 0:00:01\r\u001b[K     |█████▉                          | 122kB 8.4MB/s eta 0:00:01\r\u001b[K     |██████▎                         | 133kB 8.4MB/s eta 0:00:01\r\u001b[K     |██████▊                         | 143kB 8.4MB/s eta 0:00:01\r\u001b[K     |███████▎                        | 153kB 8.4MB/s eta 0:00:01\r\u001b[K     |███████▊                        | 163kB 8.4MB/s eta 0:00:01\r\u001b[K     |████████▏                       | 174kB 8.4MB/s eta 0:00:01\r\u001b[K     |████████▊                       | 184kB 8.4MB/s eta 0:00:01\r\u001b[K     |█████████▏                      | 194kB 8.4MB/s eta 0:00:01\r\u001b[K     |█████████▋                      | 204kB 8.4MB/s eta 0:00:01\r\u001b[K     |██████████▏                     | 215kB 8.4MB/s eta 0:00:01\r\u001b[K     |██████████▋                     | 225kB 8.4MB/s eta 0:00:01\r\u001b[K     |███████████                     | 235kB 8.4MB/s eta 0:00:01\r\u001b[K     |███████████▋                    | 245kB 8.4MB/s eta 0:00:01\r\u001b[K     |████████████                    | 256kB 8.4MB/s eta 0:00:01\r\u001b[K     |████████████▌                   | 266kB 8.4MB/s eta 0:00:01\r\u001b[K     |█████████████                   | 276kB 8.4MB/s eta 0:00:01\r\u001b[K     |█████████████▌                  | 286kB 8.4MB/s eta 0:00:01\r\u001b[K     |██████████████                  | 296kB 8.4MB/s eta 0:00:01\r\u001b[K     |██████████████▌                 | 307kB 8.4MB/s eta 0:00:01\r\u001b[K     |███████████████                 | 317kB 8.4MB/s eta 0:00:01\r\u001b[K     |███████████████▍                | 327kB 8.4MB/s eta 0:00:01\r\u001b[K     |████████████████                | 337kB 8.4MB/s eta 0:00:01\r\u001b[K     |████████████████▍               | 348kB 8.4MB/s eta 0:00:01\r\u001b[K     |████████████████▉               | 358kB 8.4MB/s eta 0:00:01\r\u001b[K     |█████████████████▍              | 368kB 8.4MB/s eta 0:00:01\r\u001b[K     |█████████████████▉              | 378kB 8.4MB/s eta 0:00:01\r\u001b[K     |██████████████████▎             | 389kB 8.4MB/s eta 0:00:01\r\u001b[K     |██████████████████▉             | 399kB 8.4MB/s eta 0:00:01\r\u001b[K     |███████████████████▎            | 409kB 8.4MB/s eta 0:00:01\r\u001b[K     |███████████████████▊            | 419kB 8.4MB/s eta 0:00:01\r\u001b[K     |████████████████████▎           | 430kB 8.4MB/s eta 0:00:01\r\u001b[K     |████████████████████▊           | 440kB 8.4MB/s eta 0:00:01\r\u001b[K     |█████████████████████▏          | 450kB 8.4MB/s eta 0:00:01\r\u001b[K     |█████████████████████▊          | 460kB 8.4MB/s eta 0:00:01\r\u001b[K     |██████████████████████▏         | 471kB 8.4MB/s eta 0:00:01\r\u001b[K     |██████████████████████▋         | 481kB 8.4MB/s eta 0:00:01\r\u001b[K     |███████████████████████▏        | 491kB 8.4MB/s eta 0:00:01\r\u001b[K     |███████████████████████▋        | 501kB 8.4MB/s eta 0:00:01\r\u001b[K     |████████████████████████        | 512kB 8.4MB/s eta 0:00:01\r\u001b[K     |████████████████████████▋       | 522kB 8.4MB/s eta 0:00:01\r\u001b[K     |█████████████████████████       | 532kB 8.4MB/s eta 0:00:01\r\u001b[K     |█████████████████████████▌      | 542kB 8.4MB/s eta 0:00:01\r\u001b[K     |██████████████████████████      | 552kB 8.4MB/s eta 0:00:01\r\u001b[K     |██████████████████████████▌     | 563kB 8.4MB/s eta 0:00:01\r\u001b[K     |███████████████████████████     | 573kB 8.4MB/s eta 0:00:01\r\u001b[K     |███████████████████████████▌    | 583kB 8.4MB/s eta 0:00:01\r\u001b[K     |████████████████████████████    | 593kB 8.4MB/s eta 0:00:01\r\u001b[K     |████████████████████████████▍   | 604kB 8.4MB/s eta 0:00:01\r\u001b[K     |█████████████████████████████   | 614kB 8.4MB/s eta 0:00:01\r\u001b[K     |█████████████████████████████▍  | 624kB 8.4MB/s eta 0:00:01\r\u001b[K     |█████████████████████████████▉  | 634kB 8.4MB/s eta 0:00:01\r\u001b[K     |██████████████████████████████▍ | 645kB 8.4MB/s eta 0:00:01\r\u001b[K     |██████████████████████████████▉ | 655kB 8.4MB/s eta 0:00:01\r\u001b[K     |███████████████████████████████▎| 665kB 8.4MB/s eta 0:00:01\r\u001b[K     |███████████████████████████████▉| 675kB 8.4MB/s eta 0:00:01\r\u001b[K     |████████████████████████████████| 686kB 8.4MB/s \n",
            "\u001b[?25hRequirement already satisfied: typeguard>=2.7 in /usr/local/lib/python3.7/dist-packages (from tensorflow-addons) (2.7.1)\n",
            "Installing collected packages: tensorflow-addons\n",
            "Successfully installed tensorflow-addons-0.13.0\n"
          ],
          "name": "stdout"
        }
      ]
    },
    {
      "cell_type": "code",
      "metadata": {
        "id": "sos7qGnegivy"
      },
      "source": [
        "from tensorflow.keras.callbacks import ModelCheckpoint, EarlyStopping, CSVLogger\n",
        "callbacks = [\n",
        "    ModelCheckpoint(\"dog_cat_best.h5\", monitor=\"val_loss\", save_best_only=True),\n",
        "    EarlyStopping(monitor=\"val_loss\", patience=5, restore_best_weights=True),\n",
        "    CSVLogger(\"logger.csv\")\n",
        "]"
      ],
      "execution_count": 13,
      "outputs": []
    },
    {
      "cell_type": "code",
      "metadata": {
        "colab": {
          "base_uri": "https://localhost:8080/"
        },
        "id": "GKb06c7bhhXa",
        "outputId": "6ba6fc6c-661d-471f-e62e-3fe9599c4b69"
      },
      "source": [
        "epochs = 100\n",
        "batch_size = 32\n",
        "model.fit(\n",
        "    x_train_flow,\n",
        "    epochs=epochs,\n",
        "    #verbose=2,\n",
        "    callbacks=callbacks,\n",
        "    validation_data=(x_valid_flow),\n",
        "    batch_size=batch_size\n",
        ")"
      ],
      "execution_count": 14,
      "outputs": [
        {
          "output_type": "stream",
          "text": [
            "Epoch 1/100\n",
            "633/633 [==============================] - 292s 406ms/step - loss: 0.5156 - accuracy: 0.7299 - val_loss: 0.1420 - val_accuracy: 0.9444\n"
          ],
          "name": "stdout"
        },
        {
          "output_type": "stream",
          "text": [
            "/usr/local/lib/python3.7/dist-packages/tensorflow/python/keras/utils/generic_utils.py:497: CustomMaskWarning: Custom mask layers require a config and must override get_config. When loading, the custom mask layer must be passed to the custom_objects argument.\n",
            "  category=CustomMaskWarning)\n"
          ],
          "name": "stderr"
        },
        {
          "output_type": "stream",
          "text": [
            "Epoch 2/100\n",
            "633/633 [==============================] - 251s 397ms/step - loss: 0.4712 - accuracy: 0.7658 - val_loss: 0.1132 - val_accuracy: 0.9587\n",
            "Epoch 3/100\n",
            "633/633 [==============================] - 248s 392ms/step - loss: 0.4659 - accuracy: 0.7687 - val_loss: 0.1330 - val_accuracy: 0.9533\n",
            "Epoch 4/100\n",
            "633/633 [==============================] - 247s 391ms/step - loss: 0.4673 - accuracy: 0.7720 - val_loss: 0.1288 - val_accuracy: 0.9524\n",
            "Epoch 5/100\n",
            "633/633 [==============================] - 246s 389ms/step - loss: 0.4767 - accuracy: 0.7724 - val_loss: 0.1454 - val_accuracy: 0.9484\n",
            "Epoch 6/100\n",
            "633/633 [==============================] - 246s 389ms/step - loss: 0.4748 - accuracy: 0.7720 - val_loss: 0.1413 - val_accuracy: 0.9476\n",
            "Epoch 7/100\n",
            "633/633 [==============================] - 246s 389ms/step - loss: 0.4736 - accuracy: 0.7695 - val_loss: 0.1507 - val_accuracy: 0.9480\n"
          ],
          "name": "stdout"
        },
        {
          "output_type": "execute_result",
          "data": {
            "text/plain": [
              "<tensorflow.python.keras.callbacks.History at 0x7f0c859b5e10>"
            ]
          },
          "metadata": {
            "tags": []
          },
          "execution_count": 14
        }
      ]
    },
    {
      "cell_type": "code",
      "metadata": {
        "colab": {
          "base_uri": "https://localhost:8080/",
          "height": 500
        },
        "id": "FulQEIHVpHD9",
        "outputId": "42b492b2-d027-4821-a363-dce4f37cd93c"
      },
      "source": [
        "def plot_accuracy_loss(file_name):\n",
        "    import pandas as pd\n",
        "    log_data = pd.read_csv(file_name)\n",
        "    acc = log_data['accuracy']\n",
        "    val_acc = log_data['val_accuracy']\n",
        "    loss = log_data['loss']\n",
        "    val_loss = log_data['val_loss']\n",
        "    import matplotlib.pyplot as plt\n",
        "    plt.style.use('ggplot')\n",
        "    plt.figure(figsize=(16, 8))\n",
        "    plt.subplot(1, 2, 1)\n",
        "    plt.plot(log_data['epoch'], acc, label='Training Accuracy')\n",
        "    plt.plot(log_data['epoch'], val_acc, label='Validation Accuracy')\n",
        "    plt.legend(loc='lower right')\n",
        "    plt.title('Training and Validation Accuracy')\n",
        "    plt.subplot(1, 2, 2)\n",
        "    plt.plot(log_data['epoch'], loss, label='Training Loss')\n",
        "    plt.plot(log_data['epoch'], val_loss, label='Validation Loss')\n",
        "    plt.legend(loc='upper right')\n",
        "    plt.title('Training and Validation Loss')\n",
        "    return plt.show()\n",
        "plot_accuracy_loss(\"logger.csv\")"
      ],
      "execution_count": 15,
      "outputs": [
        {
          "output_type": "display_data",
          "data": {
            "image/png": "[encoded data removed]",
            "text/plain": [
              "<Figure size 1152x576 with 2 Axes>"
            ]
          },
          "metadata": {
            "tags": []
          }
        }
      ]
    },
    {
      "cell_type": "code",
      "metadata": {
        "colab": {
          "base_uri": "https://localhost:8080/"
        },
        "id": "pVlw3lmkr7x0",
        "outputId": "96abce8f-1fc6-4d29-a28f-1f453fb3c080"
      },
      "source": [
        "model.evaluate(x_test_flow)"
      ],
      "execution_count": 24,
      "outputs": [
        {
          "output_type": "stream",
          "text": [
            "79/79 [==============================] - 9s 113ms/step - loss: 0.0942 - accuracy: 0.9648\n"
          ],
          "name": "stdout"
        },
        {
          "output_type": "execute_result",
          "data": {
            "text/plain": [
              "[0.0942130833864212, 0.9648000001907349]"
            ]
          },
          "metadata": {
            "tags": []
          },
          "execution_count": 24
        }
      ]
    }
  ]
}