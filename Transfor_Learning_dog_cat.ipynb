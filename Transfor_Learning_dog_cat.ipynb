{
  "nbformat": 4,
  "nbformat_minor": 0,
  "metadata": {
    "colab": {
      "name": "Transfor Learning_dog_cat.ipynb",
      "provenance": [],
      "authorship_tag": "ABX9TyP3LAymyVFJpuU6pbhjSLw3",
      "include_colab_link": true
    },
    "kernelspec": {
      "name": "python3",
      "display_name": "Python 3"
    },
    "language_info": {
      "name": "python"
    },
    "accelerator": "GPU"
  },
  "cells": [
    {
      "cell_type": "markdown",
      "metadata": {
        "id": "view-in-github",
        "colab_type": "text"
      },
      "source": [
        "<a href=\"https://colab.research.google.com/github/babymlin/dog_cat_vgg16-98.6/blob/main/Transfor_Learning_dog_cat.ipynb\" target=\"_parent\"><img src=\"https://colab.research.google.com/assets/colab-badge.svg\" alt=\"Open In Colab\"/></a>"
      ]
    },
    {
      "cell_type": "code",
      "metadata": {
        "id": "43SBs-dJ6vCz"
      },
      "source": [
        "import tensorflow as tf\n",
        "import matplotlib.pyplot as plt\n",
        "import numpy as np\n",
        "import pandas as pd\n",
        "from tensorflow.keras.applications.efficientnet import EfficientNetB0, preprocess_input"
      ],
      "execution_count": 1,
      "outputs": []
    },
    {
      "cell_type": "code",
      "metadata": {
        "colab": {
          "base_uri": "https://localhost:8080/"
        },
        "id": "vtqOrJRLAAue",
        "outputId": "c99f87e0-ecbf-4272-c6db-2faa84b93e1d"
      },
      "source": [
        "# data_set_url:\"https://drive.google.com/file/d/1mAY0aJyMvc10jVzWJ9YhjKvETNxlwZ7u/view?usp=sharing\"\n",
        "!gdown --id 1mAY0aJyMvc10jVzWJ9YhjKvETNxlwZ7u --output train.zip"
      ],
      "execution_count": 2,
      "outputs": [
        {
          "output_type": "stream",
          "text": [
            "Downloading...\n",
            "From: https://drive.google.com/uc?id=1mAY0aJyMvc10jVzWJ9YhjKvETNxlwZ7u\n",
            "To: /content/train.zip\n",
            "570MB [00:08, 68.3MB/s]\n"
          ],
          "name": "stdout"
        }
      ]
    },
    {
      "cell_type": "code",
      "metadata": {
        "id": "5T-3feywAhen"
      },
      "source": [
        "!unzip -q train.zip"
      ],
      "execution_count": 3,
      "outputs": []
    },
    {
      "cell_type": "code",
      "metadata": {
        "colab": {
          "base_uri": "https://localhost:8080/",
          "height": 422
        },
        "id": "9F1-ghxm_yw-",
        "outputId": "c14767a4-b522-4dfe-f4d2-3f23ef1dd18e"
      },
      "source": [
        "from glob import glob\n",
        "data = glob(\"train/*.*\")\n",
        "#print(data[:10])\n",
        "class_name = {\"cat\":\"1\", \"dog\":\"0\"}\n",
        "data_df = pd.DataFrame(columns=[\"path\", \"label\"])\n",
        "data_df[\"label\"] = pd.Series([single.split(\"/\")[-1].split(\".\")[0] for single in data])\n",
        "data_df[\"path\"] = pd.Series(data)\n",
        "data_df[\"label\"] = data_df[\"label\"].apply(lambda x:class_name[\"cat\"] if x==\"cat\" else class_name[\"dog\"])\n",
        "data_df"
      ],
      "execution_count": 4,
      "outputs": [
        {
          "output_type": "execute_result",
          "data": {
            "text/html": [
              "<div>\n",
              "<style scoped>\n",
              "    .dataframe tbody tr th:only-of-type {\n",
              "        vertical-align: middle;\n",
              "    }\n",
              "\n",
              "    .dataframe tbody tr th {\n",
              "        vertical-align: top;\n",
              "    }\n",
              "\n",
              "    .dataframe thead th {\n",
              "        text-align: right;\n",
              "    }\n",
              "</style>\n",
              "<table border=\"1\" class=\"dataframe\">\n",
              "  <thead>\n",
              "    <tr style=\"text-align: right;\">\n",
              "      <th></th>\n",
              "      <th>path</th>\n",
              "      <th>label</th>\n",
              "    </tr>\n",
              "  </thead>\n",
              "  <tbody>\n",
              "    <tr>\n",
              "      <th>0</th>\n",
              "      <td>train/dog.10694.jpg</td>\n",
              "      <td>0</td>\n",
              "    </tr>\n",
              "    <tr>\n",
              "      <th>1</th>\n",
              "      <td>train/cat.11915.jpg</td>\n",
              "      <td>1</td>\n",
              "    </tr>\n",
              "    <tr>\n",
              "      <th>2</th>\n",
              "      <td>train/dog.4214.jpg</td>\n",
              "      <td>0</td>\n",
              "    </tr>\n",
              "    <tr>\n",
              "      <th>3</th>\n",
              "      <td>train/dog.1140.jpg</td>\n",
              "      <td>0</td>\n",
              "    </tr>\n",
              "    <tr>\n",
              "      <th>4</th>\n",
              "      <td>train/dog.7814.jpg</td>\n",
              "      <td>0</td>\n",
              "    </tr>\n",
              "    <tr>\n",
              "      <th>...</th>\n",
              "      <td>...</td>\n",
              "      <td>...</td>\n",
              "    </tr>\n",
              "    <tr>\n",
              "      <th>24995</th>\n",
              "      <td>train/cat.9132.jpg</td>\n",
              "      <td>1</td>\n",
              "    </tr>\n",
              "    <tr>\n",
              "      <th>24996</th>\n",
              "      <td>train/dog.11184.jpg</td>\n",
              "      <td>0</td>\n",
              "    </tr>\n",
              "    <tr>\n",
              "      <th>24997</th>\n",
              "      <td>train/dog.3508.jpg</td>\n",
              "      <td>0</td>\n",
              "    </tr>\n",
              "    <tr>\n",
              "      <th>24998</th>\n",
              "      <td>train/cat.5773.jpg</td>\n",
              "      <td>1</td>\n",
              "    </tr>\n",
              "    <tr>\n",
              "      <th>24999</th>\n",
              "      <td>train/cat.11598.jpg</td>\n",
              "      <td>1</td>\n",
              "    </tr>\n",
              "  </tbody>\n",
              "</table>\n",
              "<p>25000 rows × 2 columns</p>\n",
              "</div>"
            ],
            "text/plain": [
              "                      path label\n",
              "0      train/dog.10694.jpg     0\n",
              "1      train/cat.11915.jpg     1\n",
              "2       train/dog.4214.jpg     0\n",
              "3       train/dog.1140.jpg     0\n",
              "4       train/dog.7814.jpg     0\n",
              "...                    ...   ...\n",
              "24995   train/cat.9132.jpg     1\n",
              "24996  train/dog.11184.jpg     0\n",
              "24997   train/dog.3508.jpg     0\n",
              "24998   train/cat.5773.jpg     1\n",
              "24999  train/cat.11598.jpg     1\n",
              "\n",
              "[25000 rows x 2 columns]"
            ]
          },
          "metadata": {
            "tags": []
          },
          "execution_count": 4
        }
      ]
    },
    {
      "cell_type": "code",
      "metadata": {
        "colab": {
          "base_uri": "https://localhost:8080/"
        },
        "id": "Fb_ncfH7Wxtd",
        "outputId": "8feec2b5-aa27-4d5f-d173-a5676d0dacd4"
      },
      "source": [
        "from sklearn.model_selection import train_test_split\n",
        "x_train, x_test, y_train, y_test = train_test_split(\n",
        "                        data_df[\"path\"],\n",
        "                        data_df[\"label\"],\n",
        "                        test_size=0.1,\n",
        "                        random_state=1031\n",
        "                      )\n",
        "x_train.shape, y_train.shape, x_test.shape, y_test.shape"
      ],
      "execution_count": 5,
      "outputs": [
        {
          "output_type": "execute_result",
          "data": {
            "text/plain": [
              "((22500,), (22500,), (2500,), (2500,))"
            ]
          },
          "metadata": {
            "tags": []
          },
          "execution_count": 5
        }
      ]
    },
    {
      "cell_type": "code",
      "metadata": {
        "colab": {
          "base_uri": "https://localhost:8080/"
        },
        "id": "trWhQjvYY34Z",
        "outputId": "0756614d-cdc2-437f-f9c7-118079eebd5f"
      },
      "source": [
        "from sklearn.model_selection import train_test_split\n",
        "x_train, x_valid, y_train, y_valid = train_test_split(\n",
        "                        x_train,\n",
        "                        y_train,\n",
        "                        test_size=0.1,\n",
        "                        random_state=1031\n",
        "                      )\n",
        "x_train.shape, y_train.shape, x_valid.shape, y_valid.shape"
      ],
      "execution_count": 6,
      "outputs": [
        {
          "output_type": "execute_result",
          "data": {
            "text/plain": [
              "((20250,), (20250,), (2250,), (2250,))"
            ]
          },
          "metadata": {
            "tags": []
          },
          "execution_count": 6
        }
      ]
    },
    {
      "cell_type": "code",
      "metadata": {
        "colab": {
          "base_uri": "https://localhost:8080/"
        },
        "id": "iFmD9h9Kbttj",
        "outputId": "a82cbd0d-5bbb-43c0-8f49-69ef2c1e2dc3"
      },
      "source": [
        "x_train_df = pd.concat([x_train, y_train], axis=1)\n",
        "x_test_df = pd.concat([x_test, y_test], axis=1)\n",
        "x_valid_df = pd.concat([x_valid, y_valid], axis=1)\n",
        "x_train_df.shape, x_test_df.shape, x_valid_df.shape"
      ],
      "execution_count": 7,
      "outputs": [
        {
          "output_type": "execute_result",
          "data": {
            "text/plain": [
              "((20250, 2), (2500, 2), (2250, 2))"
            ]
          },
          "metadata": {
            "tags": []
          },
          "execution_count": 7
        }
      ]
    },
    {
      "cell_type": "code",
      "metadata": {
        "id": "ASJF3kNbXUfe"
      },
      "source": [
        "train_gen = tf.keras.preprocessing.image.ImageDataGenerator(\n",
        "           #horizontal_flip=True,\n",
        "           #rotation_range=90,\n",
        "           #zoom_range=[0.2, 0.2],\n",
        "           preprocessing_function=preprocess_input\n",
        "        )\n",
        "test_gen = tf.keras.preprocessing.image.ImageDataGenerator(preprocessing_function=preprocess_input)\n",
        "valid_gen = tf.keras.preprocessing.image.ImageDataGenerator(preprocessing_function=preprocess_input)"
      ],
      "execution_count": 8,
      "outputs": []
    },
    {
      "cell_type": "code",
      "metadata": {
        "colab": {
          "base_uri": "https://localhost:8080/"
        },
        "id": "NBcuwC4JaZre",
        "outputId": "8a1df06d-5cc5-4622-c134-90645c5658f1"
      },
      "source": [
        "img_size=(224, 224)\n",
        "x_train_flow = train_gen.flow_from_dataframe(\n",
        "            x_train_df,\n",
        "            x_col=\"path\",\n",
        "            y_col=\"label\",\n",
        "            target_size=img_size,\n",
        "          )\n",
        "x_test_flow = test_gen.flow_from_dataframe(\n",
        "            x_test_df,\n",
        "            x_col=\"path\",\n",
        "            y_col=\"label\",\n",
        "            target_size=img_size,\n",
        "            shuffle=False\n",
        "          )\n",
        "x_valid_flow = valid_gen.flow_from_dataframe(\n",
        "            x_valid_df,\n",
        "            x_col=\"path\",\n",
        "            y_col=\"label\",\n",
        "            target_size=img_size,\n",
        "            shuffle=False\n",
        "          )"
      ],
      "execution_count": 9,
      "outputs": [
        {
          "output_type": "stream",
          "text": [
            "Found 20250 validated image filenames belonging to 2 classes.\n",
            "Found 2500 validated image filenames belonging to 2 classes.\n",
            "Found 2250 validated image filenames belonging to 2 classes.\n"
          ],
          "name": "stdout"
        }
      ]
    },
    {
      "cell_type": "code",
      "metadata": {
        "colab": {
          "base_uri": "https://localhost:8080/"
        },
        "id": "jFCw8sEedDQg",
        "outputId": "f28739af-3658-4945-88a3-bd4bd8b833fa"
      },
      "source": [
        "effb0 = EfficientNetB0(include_top=False, input_shape=(224, 224, 3))\n",
        "effb0.trainable = False\n"
      ],
      "execution_count": 10,
      "outputs": [
        {
          "output_type": "stream",
          "text": [
            "Downloading data from https://storage.googleapis.com/keras-applications/efficientnetb0_notop.h5\n",
            "16711680/16705208 [==============================] - 0s 0us/step\n"
          ],
          "name": "stdout"
        }
      ]
    },
    {
      "cell_type": "code",
      "metadata": {
        "id": "lFUShmAOeI6t"
      },
      "source": [
        "from tensorflow.keras.models import Model\n",
        "from tensorflow.keras.layers import GlobalAveragePooling2D, Dense, Softmax\n",
        "input_layer = effb0.output\n",
        "x = GlobalAveragePooling2D()(input_layer)\n",
        "x = Dense(units=2)(x)\n",
        "output_layer = Softmax()(x)\n",
        "model = Model(inputs=effb0.input, outputs=output_layer)\n",
        "#model.summary()"
      ],
      "execution_count": 11,
      "outputs": []
    },
    {
      "cell_type": "code",
      "metadata": {
        "colab": {
          "base_uri": "https://localhost:8080/"
        },
        "id": "KtrK5LCzgOPe",
        "outputId": "0cdb0414-5379-449a-94c3-dfea873ea954"
      },
      "source": [
        "!pip install tensorflow-addons\n",
        "import tensorflow_addons as tfa\n",
        "Radam = tfa.optimizers.RectifiedAdam(1e-2)\n",
        "Ranger = tfa.optimizers.Lookahead(Radam)\n",
        "model.compile(\n",
        "    optimizer=Ranger,\n",
        "    loss=\"CategoricalCrossentropy\",\n",
        "    metrics=[\"accuracy\"]\n",
        ")"
      ],
      "execution_count": 12,
      "outputs": [
        {
          "output_type": "stream",
          "text": [
            "Collecting tensorflow-addons\n",
            "\u001b[?25l  Downloading https://files.pythonhosted.org/packages/66/4b/e893d194e626c24b3df2253066aa418f46a432fdb68250cde14bf9bb0700/tensorflow_addons-0.13.0-cp37-cp37m-manylinux2010_x86_64.whl (679kB)\n",
            "\u001b[K     |████████████████████████████████| 686kB 4.4MB/s \n",
            "\u001b[?25hRequirement already satisfied: typeguard>=2.7 in /usr/local/lib/python3.7/dist-packages (from tensorflow-addons) (2.7.1)\n",
            "Installing collected packages: tensorflow-addons\n",
            "Successfully installed tensorflow-addons-0.13.0\n"
          ],
          "name": "stdout"
        }
      ]
    },
    {
      "cell_type": "code",
      "metadata": {
        "id": "sos7qGnegivy"
      },
      "source": [
        "from tensorflow.keras.callbacks import ModelCheckpoint, EarlyStopping, CSVLogger\n",
        "callbacks = [\n",
        "    ModelCheckpoint(\"dog_cat_best.h5\", monitor=\"val_loss\", save_best_only=True),\n",
        "    EarlyStopping(monitor=\"val_loss\", patience=5, restore_best_weights=True),\n",
        "    CSVLogger(\"logger.csv\")\n",
        "]"
      ],
      "execution_count": 13,
      "outputs": []
    },
    {
      "cell_type": "code",
      "metadata": {
        "colab": {
          "base_uri": "https://localhost:8080/"
        },
        "id": "GKb06c7bhhXa",
        "outputId": "9129de97-8701-4734-d736-77c56f7dd028"
      },
      "source": [
        "epochs = 100\n",
        "batch_size = 32\n",
        "model.fit(\n",
        "    x_train_flow,\n",
        "    epochs=epochs,\n",
        "    #verbose=2,\n",
        "    callbacks=callbacks,\n",
        "    validation_data=(x_valid_flow),\n",
        "    batch_size=batch_size\n",
        ")"
      ],
      "execution_count": 14,
      "outputs": [
        {
          "output_type": "stream",
          "text": [
            "Epoch 1/100\n",
            "633/633 [==============================] - 142s 170ms/step - loss: 0.0686 - accuracy: 0.9789 - val_loss: 0.0397 - val_accuracy: 0.9867\n"
          ],
          "name": "stdout"
        },
        {
          "output_type": "stream",
          "text": [
            "/usr/local/lib/python3.7/dist-packages/tensorflow/python/keras/utils/generic_utils.py:497: CustomMaskWarning: Custom mask layers require a config and must override get_config. When loading, the custom mask layer must be passed to the custom_objects argument.\n",
            "  category=CustomMaskWarning)\n"
          ],
          "name": "stderr"
        },
        {
          "output_type": "stream",
          "text": [
            "Epoch 2/100\n",
            "633/633 [==============================] - 105s 165ms/step - loss: 0.0307 - accuracy: 0.9888 - val_loss: 0.0408 - val_accuracy: 0.9871\n",
            "Epoch 3/100\n",
            "633/633 [==============================] - 104s 164ms/step - loss: 0.0278 - accuracy: 0.9901 - val_loss: 0.0429 - val_accuracy: 0.9876\n",
            "Epoch 4/100\n",
            "633/633 [==============================] - 104s 164ms/step - loss: 0.0263 - accuracy: 0.9905 - val_loss: 0.0515 - val_accuracy: 0.9862\n",
            "Epoch 5/100\n",
            "633/633 [==============================] - 103s 163ms/step - loss: 0.0274 - accuracy: 0.9905 - val_loss: 0.0496 - val_accuracy: 0.9871\n",
            "Epoch 6/100\n",
            "633/633 [==============================] - 103s 162ms/step - loss: 0.0225 - accuracy: 0.9918 - val_loss: 0.0516 - val_accuracy: 0.9889\n"
          ],
          "name": "stdout"
        },
        {
          "output_type": "execute_result",
          "data": {
            "text/plain": [
              "<tensorflow.python.keras.callbacks.History at 0x7f9c9e6ff4d0>"
            ]
          },
          "metadata": {
            "tags": []
          },
          "execution_count": 14
        }
      ]
    },
    {
      "cell_type": "code",
      "metadata": {
        "colab": {
          "base_uri": "https://localhost:8080/",
          "height": 500
        },
        "id": "FulQEIHVpHD9",
        "outputId": "2cc7d8b1-0809-4344-82c9-f2253194feaa"
      },
      "source": [
        "def plot_accuracy_loss(file_name):\n",
        "    import pandas as pd\n",
        "    log_data = pd.read_csv(file_name)\n",
        "    acc = log_data['accuracy']\n",
        "    val_acc = log_data['val_accuracy']\n",
        "    loss = log_data['loss']\n",
        "    val_loss = log_data['val_loss']\n",
        "    import matplotlib.pyplot as plt\n",
        "    plt.style.use('ggplot')\n",
        "    plt.figure(figsize=(16, 8))\n",
        "    plt.subplot(1, 2, 1)\n",
        "    plt.plot(log_data['epoch'], acc, label='Training Accuracy')\n",
        "    plt.plot(log_data['epoch'], val_acc, label='Validation Accuracy')\n",
        "    plt.legend(loc='lower right')\n",
        "    plt.title('Training and Validation Accuracy')\n",
        "    plt.subplot(1, 2, 2)\n",
        "    plt.plot(log_data['epoch'], loss, label='Training Loss')\n",
        "    plt.plot(log_data['epoch'], val_loss, label='Validation Loss')\n",
        "    plt.legend(loc='upper right')\n",
        "    plt.title('Training and Validation Loss')\n",
        "    return plt.show()\n",
        "plot_accuracy_loss(\"logger.csv\")"
      ],
      "execution_count": 15,
      "outputs": [
        {
          "output_type": "display_data",
          "data": {
            "image/png": "[encoded data removed]",
            "text/plain": [
              "<Figure size 1152x576 with 2 Axes>"
            ]
          },
          "metadata": {
            "tags": []
          }
        }
      ]
    },
    {
      "cell_type": "code",
      "metadata": {
        "colab": {
          "base_uri": "https://localhost:8080/"
        },
        "id": "pVlw3lmkr7x0",
        "outputId": "a285e0ff-73fb-4a6d-983d-146d4eba8b24"
      },
      "source": [
        "model.evaluate(x_test_flow)"
      ],
      "execution_count": 16,
      "outputs": [
        {
          "output_type": "stream",
          "text": [
            "79/79 [==============================] - 12s 151ms/step - loss: 0.0278 - accuracy: 0.9924\n"
          ],
          "name": "stdout"
        },
        {
          "output_type": "execute_result",
          "data": {
            "text/plain": [
              "[0.027797268703579903, 0.9923999905586243]"
            ]
          },
          "metadata": {
            "tags": []
          },
          "execution_count": 16
        }
      ]
    }
  ]
}