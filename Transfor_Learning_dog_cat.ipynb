{
  "nbformat": 4,
  "nbformat_minor": 0,
  "metadata": {
    "colab": {
      "name": "Transfor Learning_dog_cat.ipynb",
      "provenance": [],
      "authorship_tag": "ABX9TyM+Hww3rMRixhJMKCQlPi6v",
      "include_colab_link": true
    },
    "kernelspec": {
      "name": "python3",
      "display_name": "Python 3"
    },
    "language_info": {
      "name": "python"
    },
    "accelerator": "GPU"
  },
  "cells": [
    {
      "cell_type": "markdown",
      "metadata": {
        "id": "view-in-github",
        "colab_type": "text"
      },
      "source": [
        "<a href=\"https://colab.research.google.com/github/babymlin/dog_cat_vgg16-99.24/blob/main/Transfor_Learning_dog_cat.ipynb\" target=\"_parent\"><img src=\"https://colab.research.google.com/assets/colab-badge.svg\" alt=\"Open In Colab\"/></a>"
      ]
    },
    {
      "cell_type": "code",
      "metadata": {
        "id": "43SBs-dJ6vCz"
      },
      "source": [
        "import tensorflow as tf\n",
        "import matplotlib.pyplot as plt\n",
        "import numpy as np\n",
        "import pandas as pd\n",
        "from tensorflow.keras.applications.efficientnet import EfficientNetB0, preprocess_input"
      ],
      "execution_count": 1,
      "outputs": []
    },
    {
      "cell_type": "code",
      "metadata": {
        "colab": {
          "base_uri": "https://localhost:8080/"
        },
        "id": "vtqOrJRLAAue",
        "outputId": "9208462e-0c42-4650-d63f-c34c57750c26"
      },
      "source": [
        "# data_set_url:\"https://drive.google.com/file/d/1mAY0aJyMvc10jVzWJ9YhjKvETNxlwZ7u/view?usp=sharing\"\n",
        "!gdown --id 1mAY0aJyMvc10jVzWJ9YhjKvETNxlwZ7u --output train.zip"
      ],
      "execution_count": 2,
      "outputs": [
        {
          "output_type": "stream",
          "text": [
            "Downloading...\n",
            "From: https://drive.google.com/uc?id=1mAY0aJyMvc10jVzWJ9YhjKvETNxlwZ7u\n",
            "To: /content/train.zip\n",
            "570MB [00:02, 232MB/s]\n"
          ],
          "name": "stdout"
        }
      ]
    },
    {
      "cell_type": "code",
      "metadata": {
        "id": "5T-3feywAhen"
      },
      "source": [
        "!unzip -q train.zip"
      ],
      "execution_count": 3,
      "outputs": []
    },
    {
      "cell_type": "code",
      "metadata": {
        "colab": {
          "base_uri": "https://localhost:8080/",
          "height": 422
        },
        "id": "9F1-ghxm_yw-",
        "outputId": "84eef54c-18c6-4fac-b58c-1b01096979e0"
      },
      "source": [
        "from glob import glob\n",
        "data = glob(\"train/*.*\")\n",
        "#print(data[:10])\n",
        "class_name = {\"cat\":\"1\", \"dog\":\"0\"}\n",
        "data_df = pd.DataFrame(columns=[\"path\", \"label\"])\n",
        "data_df[\"label\"] = pd.Series([single.split(\"/\")[-1].split(\".\")[0] for single in data])\n",
        "data_df[\"path\"] = pd.Series(data)\n",
        "data_df[\"label\"] = data_df[\"label\"].apply(lambda x:class_name[\"cat\"] if x==\"cat\" else class_name[\"dog\"])\n",
        "data_df"
      ],
      "execution_count": 4,
      "outputs": [
        {
          "output_type": "execute_result",
          "data": {
            "text/html": [
              "<div>\n",
              "<style scoped>\n",
              "    .dataframe tbody tr th:only-of-type {\n",
              "        vertical-align: middle;\n",
              "    }\n",
              "\n",
              "    .dataframe tbody tr th {\n",
              "        vertical-align: top;\n",
              "    }\n",
              "\n",
              "    .dataframe thead th {\n",
              "        text-align: right;\n",
              "    }\n",
              "</style>\n",
              "<table border=\"1\" class=\"dataframe\">\n",
              "  <thead>\n",
              "    <tr style=\"text-align: right;\">\n",
              "      <th></th>\n",
              "      <th>path</th>\n",
              "      <th>label</th>\n",
              "    </tr>\n",
              "  </thead>\n",
              "  <tbody>\n",
              "    <tr>\n",
              "      <th>0</th>\n",
              "      <td>train/dog.10694.jpg</td>\n",
              "      <td>0</td>\n",
              "    </tr>\n",
              "    <tr>\n",
              "      <th>1</th>\n",
              "      <td>train/cat.11915.jpg</td>\n",
              "      <td>1</td>\n",
              "    </tr>\n",
              "    <tr>\n",
              "      <th>2</th>\n",
              "      <td>train/dog.4214.jpg</td>\n",
              "      <td>0</td>\n",
              "    </tr>\n",
              "    <tr>\n",
              "      <th>3</th>\n",
              "      <td>train/dog.1140.jpg</td>\n",
              "      <td>0</td>\n",
              "    </tr>\n",
              "    <tr>\n",
              "      <th>4</th>\n",
              "      <td>train/dog.7814.jpg</td>\n",
              "      <td>0</td>\n",
              "    </tr>\n",
              "    <tr>\n",
              "      <th>...</th>\n",
              "      <td>...</td>\n",
              "      <td>...</td>\n",
              "    </tr>\n",
              "    <tr>\n",
              "      <th>24995</th>\n",
              "      <td>train/cat.9132.jpg</td>\n",
              "      <td>1</td>\n",
              "    </tr>\n",
              "    <tr>\n",
              "      <th>24996</th>\n",
              "      <td>train/dog.11184.jpg</td>\n",
              "      <td>0</td>\n",
              "    </tr>\n",
              "    <tr>\n",
              "      <th>24997</th>\n",
              "      <td>train/dog.3508.jpg</td>\n",
              "      <td>0</td>\n",
              "    </tr>\n",
              "    <tr>\n",
              "      <th>24998</th>\n",
              "      <td>train/cat.5773.jpg</td>\n",
              "      <td>1</td>\n",
              "    </tr>\n",
              "    <tr>\n",
              "      <th>24999</th>\n",
              "      <td>train/cat.11598.jpg</td>\n",
              "      <td>1</td>\n",
              "    </tr>\n",
              "  </tbody>\n",
              "</table>\n",
              "<p>25000 rows × 2 columns</p>\n",
              "</div>"
            ],
            "text/plain": [
              "                      path label\n",
              "0      train/dog.10694.jpg     0\n",
              "1      train/cat.11915.jpg     1\n",
              "2       train/dog.4214.jpg     0\n",
              "3       train/dog.1140.jpg     0\n",
              "4       train/dog.7814.jpg     0\n",
              "...                    ...   ...\n",
              "24995   train/cat.9132.jpg     1\n",
              "24996  train/dog.11184.jpg     0\n",
              "24997   train/dog.3508.jpg     0\n",
              "24998   train/cat.5773.jpg     1\n",
              "24999  train/cat.11598.jpg     1\n",
              "\n",
              "[25000 rows x 2 columns]"
            ]
          },
          "metadata": {
            "tags": []
          },
          "execution_count": 4
        }
      ]
    },
    {
      "cell_type": "code",
      "metadata": {
        "colab": {
          "base_uri": "https://localhost:8080/"
        },
        "id": "Fb_ncfH7Wxtd",
        "outputId": "6af360fb-3f77-45f1-b4d1-742007e05112"
      },
      "source": [
        "from sklearn.model_selection import train_test_split\n",
        "x_train, x_test, y_train, y_test = train_test_split(\n",
        "                        data_df[\"path\"],\n",
        "                        data_df[\"label\"],\n",
        "                        test_size=0.1,\n",
        "                        random_state=1031\n",
        "                      )\n",
        "x_train.shape, y_train.shape, x_test.shape, y_test.shape, y_train.value_counts(), y_test.value_counts()"
      ],
      "execution_count": 5,
      "outputs": [
        {
          "output_type": "execute_result",
          "data": {
            "text/plain": [
              "((22500,), (22500,), (2500,), (2500,), 0    11253\n",
              " 1    11247\n",
              " Name: label, dtype: int64, 1    1253\n",
              " 0    1247\n",
              " Name: label, dtype: int64)"
            ]
          },
          "metadata": {
            "tags": []
          },
          "execution_count": 5
        }
      ]
    },
    {
      "cell_type": "code",
      "metadata": {
        "colab": {
          "base_uri": "https://localhost:8080/"
        },
        "id": "trWhQjvYY34Z",
        "outputId": "a6a48e99-fbf0-4e4c-e305-dea01676dee3"
      },
      "source": [
        "from sklearn.model_selection import train_test_split\n",
        "x_train, x_valid, y_train, y_valid = train_test_split(\n",
        "                        x_train,\n",
        "                        y_train,\n",
        "                        test_size=0.1,\n",
        "                        random_state=1031\n",
        "                      )\n",
        "x_train.shape, y_train.shape, x_valid.shape, y_valid.shape, y_train.value_counts(), y_valid.value_counts()"
      ],
      "execution_count": 6,
      "outputs": [
        {
          "output_type": "execute_result",
          "data": {
            "text/plain": [
              "((20250,), (20250,), (2250,), (2250,), 0    10134\n",
              " 1    10116\n",
              " Name: label, dtype: int64, 1    1131\n",
              " 0    1119\n",
              " Name: label, dtype: int64)"
            ]
          },
          "metadata": {
            "tags": []
          },
          "execution_count": 6
        }
      ]
    },
    {
      "cell_type": "code",
      "metadata": {
        "colab": {
          "base_uri": "https://localhost:8080/"
        },
        "id": "iFmD9h9Kbttj",
        "outputId": "1c940eff-5cbd-4e06-c502-7991767e56b3"
      },
      "source": [
        "x_train_df = pd.concat([x_train, y_train], axis=1)\n",
        "x_test_df = pd.concat([x_test, y_test], axis=1)\n",
        "x_valid_df = pd.concat([x_valid, y_valid], axis=1)\n",
        "x_train_df.shape, x_test_df.shape, x_valid_df.shape"
      ],
      "execution_count": 7,
      "outputs": [
        {
          "output_type": "execute_result",
          "data": {
            "text/plain": [
              "((20250, 2), (2500, 2), (2250, 2))"
            ]
          },
          "metadata": {
            "tags": []
          },
          "execution_count": 7
        }
      ]
    },
    {
      "cell_type": "code",
      "metadata": {
        "id": "ASJF3kNbXUfe"
      },
      "source": [
        "train_gen = tf.keras.preprocessing.image.ImageDataGenerator(\n",
        "           #horizontal_flip=True,\n",
        "           #rotation_range=90,\n",
        "           #zoom_range=[0.2, 0.2],\n",
        "           preprocessing_function=preprocess_input\n",
        "        )\n",
        "test_gen = tf.keras.preprocessing.image.ImageDataGenerator(preprocessing_function=preprocess_input)\n",
        "valid_gen = tf.keras.preprocessing.image.ImageDataGenerator(preprocessing_function=preprocess_input)"
      ],
      "execution_count": 8,
      "outputs": []
    },
    {
      "cell_type": "code",
      "metadata": {
        "colab": {
          "base_uri": "https://localhost:8080/"
        },
        "id": "NBcuwC4JaZre",
        "outputId": "deff6416-1d3e-4e29-d974-a0ef86050b1e"
      },
      "source": [
        "img_size=(224, 224)\n",
        "batch_size = 64\n",
        "x_train_flow = train_gen.flow_from_dataframe(\n",
        "            x_train_df,\n",
        "            x_col=\"path\",\n",
        "            y_col=\"label\",\n",
        "            target_size=img_size,\n",
        "            batch_size = batch_size,\n",
        "          )\n",
        "x_test_flow = test_gen.flow_from_dataframe(\n",
        "            x_test_df,\n",
        "            x_col=\"path\",\n",
        "            y_col=\"label\",\n",
        "            target_size=img_size,\n",
        "            batch_size = batch_size,\n",
        "            shuffle=False\n",
        "          )\n",
        "x_valid_flow = valid_gen.flow_from_dataframe(\n",
        "            x_valid_df,\n",
        "            x_col=\"path\",\n",
        "            y_col=\"label\",\n",
        "            target_size=img_size,\n",
        "            batch_size = batch_size,\n",
        "            shuffle=False\n",
        "          )"
      ],
      "execution_count": 22,
      "outputs": [
        {
          "output_type": "stream",
          "text": [
            "Found 20250 validated image filenames belonging to 2 classes.\n",
            "Found 2500 validated image filenames belonging to 2 classes.\n",
            "Found 2250 validated image filenames belonging to 2 classes.\n"
          ],
          "name": "stdout"
        }
      ]
    },
    {
      "cell_type": "code",
      "metadata": {
        "id": "jFCw8sEedDQg"
      },
      "source": [
        "effb0 = EfficientNetB0(include_top=False, input_shape=(224, 224, 3))\n",
        "effb0.trainable = False\n"
      ],
      "execution_count": 23,
      "outputs": []
    },
    {
      "cell_type": "code",
      "metadata": {
        "id": "lFUShmAOeI6t"
      },
      "source": [
        "from tensorflow.keras.models import Model\n",
        "from tensorflow.keras.layers import BatchNormalization, GlobalAveragePooling2D, Dense, Softmax\n",
        "input_layer = effb0.output\n",
        "x = BatchNormalization()(input_layer)\n",
        "x = GlobalAveragePooling2D()(x)\n",
        "x = Dense(units=2)(x)\n",
        "output_layer = Softmax()(x)\n",
        "model = Model(inputs=effb0.input, outputs=output_layer)\n",
        "#model.summary()"
      ],
      "execution_count": 24,
      "outputs": []
    },
    {
      "cell_type": "code",
      "metadata": {
        "colab": {
          "base_uri": "https://localhost:8080/"
        },
        "id": "KtrK5LCzgOPe",
        "outputId": "518874ca-77ea-4be9-ff7d-9c2e8af4964d"
      },
      "source": [
        "!pip install tensorflow-addons\n",
        "import tensorflow_addons as tfa\n",
        "Radam = tfa.optimizers.RectifiedAdam(1e-2)\n",
        "Ranger = tfa.optimizers.Lookahead(Radam)\n",
        "model.compile(\n",
        "    optimizer=Ranger,\n",
        "    loss=\"CategoricalCrossentropy\",\n",
        "    metrics=[\"accuracy\"]\n",
        ")"
      ],
      "execution_count": 25,
      "outputs": [
        {
          "output_type": "stream",
          "text": [
            "Requirement already satisfied: tensorflow-addons in /usr/local/lib/python3.7/dist-packages (0.13.0)\n",
            "Requirement already satisfied: typeguard>=2.7 in /usr/local/lib/python3.7/dist-packages (from tensorflow-addons) (2.7.1)\n"
          ],
          "name": "stdout"
        }
      ]
    },
    {
      "cell_type": "code",
      "metadata": {
        "id": "sos7qGnegivy"
      },
      "source": [
        "from tensorflow.keras.callbacks import ModelCheckpoint, EarlyStopping, CSVLogger\n",
        "callbacks = [\n",
        "    ModelCheckpoint(\"dog_cat_best.h5\", monitor=\"val_loss\", save_best_only=True),\n",
        "    EarlyStopping(monitor=\"val_loss\", patience=3, restore_best_weights=True),\n",
        "    CSVLogger(\"logger.csv\")\n",
        "]"
      ],
      "execution_count": 26,
      "outputs": []
    },
    {
      "cell_type": "code",
      "metadata": {
        "colab": {
          "base_uri": "https://localhost:8080/"
        },
        "id": "GKb06c7bhhXa",
        "outputId": "c1226c58-2ca5-4c8d-d79f-c9a7ba2e6b1c"
      },
      "source": [
        "epochs = 100\n",
        "model.fit(\n",
        "    x_train_flow,\n",
        "    epochs=epochs,\n",
        "    #verbose=2,\n",
        "    callbacks=callbacks,\n",
        "    validation_data=(x_valid_flow),\n",
        "    batch_size=batch_size\n",
        ")"
      ],
      "execution_count": 27,
      "outputs": [
        {
          "output_type": "stream",
          "text": [
            "Epoch 1/100\n",
            "317/317 [==============================] - 84s 246ms/step - loss: 0.1011 - accuracy: 0.9656 - val_loss: 0.0374 - val_accuracy: 0.9876\n"
          ],
          "name": "stdout"
        },
        {
          "output_type": "stream",
          "text": [
            "/usr/local/lib/python3.7/dist-packages/tensorflow/python/keras/utils/generic_utils.py:497: CustomMaskWarning: Custom mask layers require a config and must override get_config. When loading, the custom mask layer must be passed to the custom_objects argument.\n",
            "  category=CustomMaskWarning)\n"
          ],
          "name": "stderr"
        },
        {
          "output_type": "stream",
          "text": [
            "Epoch 2/100\n",
            "317/317 [==============================] - 76s 239ms/step - loss: 0.0333 - accuracy: 0.9892 - val_loss: 0.0379 - val_accuracy: 0.9880\n",
            "Epoch 3/100\n",
            "317/317 [==============================] - 76s 238ms/step - loss: 0.0349 - accuracy: 0.9870 - val_loss: 0.0378 - val_accuracy: 0.9871\n",
            "Epoch 4/100\n",
            "317/317 [==============================] - 75s 237ms/step - loss: 0.0303 - accuracy: 0.9892 - val_loss: 0.0384 - val_accuracy: 0.9889\n"
          ],
          "name": "stdout"
        },
        {
          "output_type": "execute_result",
          "data": {
            "text/plain": [
              "<tensorflow.python.keras.callbacks.History at 0x7f17c06ba690>"
            ]
          },
          "metadata": {
            "tags": []
          },
          "execution_count": 27
        }
      ]
    },
    {
      "cell_type": "code",
      "metadata": {
        "colab": {
          "base_uri": "https://localhost:8080/",
          "height": 458
        },
        "id": "FulQEIHVpHD9",
        "outputId": "f689f51d-58b2-41c2-863d-93c004d0a335"
      },
      "source": [
        "def plot_accuracy_loss(file_name):\n",
        "    import pandas as pd\n",
        "    log_data = pd.read_csv(file_name)\n",
        "    acc = log_data['accuracy']\n",
        "    val_acc = log_data['val_accuracy']\n",
        "    loss = log_data['loss']\n",
        "    val_loss = log_data['val_loss']\n",
        "    import matplotlib.pyplot as plt\n",
        "    plt.style.use('ggplot')\n",
        "    plt.figure(figsize=(16, 8))\n",
        "    plt.subplot(1, 2, 1)\n",
        "    plt.plot(log_data['epoch'], acc, label='Training Accuracy')\n",
        "    plt.plot(log_data['epoch'], val_acc, label='Validation Accuracy')\n",
        "    plt.legend(loc='lower right')\n",
        "    plt.title('Training and Validation Accuracy')\n",
        "    plt.subplot(1, 2, 2)\n",
        "    plt.plot(log_data['epoch'], loss, label='Training Loss')\n",
        "    plt.plot(log_data['epoch'], val_loss, label='Validation Loss')\n",
        "    plt.legend(loc='upper right')\n",
        "    plt.title('Training and Validation Loss')\n",
        "    return plt.show()\n",
        "plot_accuracy_loss(\"logger.csv\")"
      ],
      "execution_count": 28,
      "outputs": [
        {
          "output_type": "display_data",
          "data": {
            "image/png": "[encoded data removed]",
            "text/plain": [
              "<Figure size 1152x576 with 2 Axes>"
            ]
          },
          "metadata": {
            "tags": []
          }
        }
      ]
    },
    {
      "cell_type": "code",
      "metadata": {
        "colab": {
          "base_uri": "https://localhost:8080/"
        },
        "id": "pVlw3lmkr7x0",
        "outputId": "181d2af9-ade0-4117-b313-756c13017bb9"
      },
      "source": [
        "model.evaluate(x_test_flow)"
      ],
      "execution_count": 29,
      "outputs": [
        {
          "output_type": "stream",
          "text": [
            "40/40 [==============================] - 9s 215ms/step - loss: 0.0278 - accuracy: 0.9916\n"
          ],
          "name": "stdout"
        },
        {
          "output_type": "execute_result",
          "data": {
            "text/plain": [
              "[0.027820922434329987, 0.991599977016449]"
            ]
          },
          "metadata": {
            "tags": []
          },
          "execution_count": 29
        }
      ]
    }
  ]
}